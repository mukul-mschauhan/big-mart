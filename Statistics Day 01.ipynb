{
  "nbformat": 4,
  "nbformat_minor": 0,
  "metadata": {
    "colab": {
      "provenance": [],
      "authorship_tag": "ABX9TyPDHpduhUTzGEfuW4/QZUs3",
      "include_colab_link": true
    },
    "kernelspec": {
      "name": "python3",
      "display_name": "Python 3"
    },
    "language_info": {
      "name": "python"
    }
  },
  "cells": [
    {
      "cell_type": "markdown",
      "metadata": {
        "id": "view-in-github",
        "colab_type": "text"
      },
      "source": [
        "<a href=\"https://colab.research.google.com/github/mukul-mschauhan/big-mart/blob/main/Statistics%20Day%2001.ipynb\" target=\"_parent\"><img src=\"https://colab.research.google.com/assets/colab-badge.svg\" alt=\"Open In Colab\"/></a>"
      ]
    },
    {
      "cell_type": "markdown",
      "source": [
        "75% of the students Use Instagram in college. Three students are selected randomly and what is the probability that exactly 2 students use Insta."
      ],
      "metadata": {
        "id": "e2yKQlSzwDis"
      }
    },
    {
      "cell_type": "code",
      "execution_count": 2,
      "metadata": {
        "id": "D78mBAZmMWJV"
      },
      "outputs": [],
      "source": [
        "import numpy as np\n",
        "import matplotlib.pyplot as plt\n",
        "import seaborn as sns\n",
        "import scipy.stats as stats"
      ]
    },
    {
      "cell_type": "code",
      "source": [],
      "metadata": {
        "id": "DMAItxRqR6rL"
      },
      "execution_count": null,
      "outputs": []
    },
    {
      "cell_type": "code",
      "source": [
        "# Given to us\n",
        "prob = 0.75\n",
        "n = 3\n",
        "x = 2\n",
        "\n",
        "stats.binom.pmf(x, n, prob) # x, n, p\n"
      ],
      "metadata": {
        "colab": {
          "base_uri": "https://localhost:8080/"
        },
        "id": "rTKtqAD517iP",
        "outputId": "fd21a070-cecb-4c43-cec9-312ce5494359"
      },
      "execution_count": 3,
      "outputs": [
        {
          "output_type": "execute_result",
          "data": {
            "text/plain": [
              "0.42187499999999994"
            ]
          },
          "metadata": {},
          "execution_count": 3
        }
      ]
    },
    {
      "cell_type": "code",
      "source": [
        "# Given\n",
        "prob = 0.25\n",
        "n = 20\n",
        "x = 3\n",
        "prob = stats.binom.pmf(x, n, prob)\n",
        "\n",
        "print(f'''Required Prob for {3} Customer is {prob}''')"
      ],
      "metadata": {
        "colab": {
          "base_uri": "https://localhost:8080/"
        },
        "id": "K4dLsCTY2vjH",
        "outputId": "d74d4cc3-9c4f-4381-c039-424d51e3a3f5"
      },
      "execution_count": 4,
      "outputs": [
        {
          "output_type": "stream",
          "name": "stdout",
          "text": [
            "Required Prob for 3 Customer is 0.13389561519943532\n"
          ]
        }
      ]
    },
    {
      "cell_type": "code",
      "source": [
        "# More than 3 Customers...\n",
        "prob = 0.25\n",
        "n = 20\n",
        "x = 3\n",
        "\n",
        "# At Most 3 Customers P(X=0)+ P(X=1)+P(X=2)+P(X=3)\n",
        "atmost_three = stats.binom.cdf(x, n, prob)\n",
        "\n",
        "# Prob of More than 3\n",
        "req_prob = 1 - atmost_three\n",
        "print(\"More than 3 Customers: \", req_prob)"
      ],
      "metadata": {
        "colab": {
          "base_uri": "https://localhost:8080/"
        },
        "id": "LjbKdb3X7STl",
        "outputId": "5138f8cb-452a-463d-f415-d84724a6282a"
      },
      "execution_count": 7,
      "outputs": [
        {
          "output_type": "stream",
          "name": "stdout",
          "text": [
            "More than 3 Customers:  0.7748439523356865\n"
          ]
        }
      ]
    },
    {
      "cell_type": "code",
      "source": [
        "# Shooting Range\n",
        "prob = 11/15\n",
        "n = 50\n",
        "x = 35\n",
        "\n",
        "stats.binom.pmf(x, n, prob)\n"
      ],
      "metadata": {
        "colab": {
          "base_uri": "https://localhost:8080/"
        },
        "id": "_nwUCuqA75EH",
        "outputId": "26af75b7-c1b6-42e7-94c1-d3c0b05d0400"
      },
      "execution_count": 8,
      "outputs": [
        {
          "output_type": "execute_result",
          "data": {
            "text/plain": [
              "0.10651812440300873"
            ]
          },
          "metadata": {},
          "execution_count": 8
        }
      ]
    },
    {
      "cell_type": "markdown",
      "source": [
        "### Continuous Prob Distt"
      ],
      "metadata": {
        "id": "ydFFByDcH0cL"
      }
    },
    {
      "cell_type": "code",
      "source": [
        "mew = 300\n",
        "sigma = 127\n",
        "x = 100\n",
        "\n",
        "# Prob of X<=100\n",
        "zscore = (x-mew)/sigma\n",
        "stats.norm.cdf(zscore) # Probability of Zscore"
      ],
      "metadata": {
        "colab": {
          "base_uri": "https://localhost:8080/"
        },
        "id": "M4KL3is288lV",
        "outputId": "97b988e6-6161-4e03-f4c1-43f6c87c4804"
      },
      "execution_count": 9,
      "outputs": [
        {
          "output_type": "execute_result",
          "data": {
            "text/plain": [
              "0.057650944602972154"
            ]
          },
          "metadata": {},
          "execution_count": 9
        }
      ]
    },
    {
      "cell_type": "code",
      "source": [
        "stats.norm.cdf(x, mew, sigma)"
      ],
      "metadata": {
        "colab": {
          "base_uri": "https://localhost:8080/"
        },
        "id": "WJZQnCPkH-Io",
        "outputId": "704be2c5-9b88-4b54-b952-0432f5695bd1"
      },
      "execution_count": 10,
      "outputs": [
        {
          "output_type": "execute_result",
          "data": {
            "text/plain": [
              "0.057650944602972154"
            ]
          },
          "metadata": {},
          "execution_count": 10
        }
      ]
    },
    {
      "cell_type": "code",
      "source": [
        "# Probability of People Spending > 400 Mins\n",
        "\n",
        "1 - stats.norm.cdf(400, mew, sigma)"
      ],
      "metadata": {
        "colab": {
          "base_uri": "https://localhost:8080/"
        },
        "id": "UzLDtDPzIoNG",
        "outputId": "8bc6caa2-7cb9-4c6a-a4c6-1be4d326e53b"
      },
      "execution_count": 12,
      "outputs": [
        {
          "output_type": "execute_result",
          "data": {
            "text/plain": [
              "0.21552341258419727"
            ]
          },
          "metadata": {},
          "execution_count": 12
        }
      ]
    },
    {
      "cell_type": "code",
      "source": [
        "# Prob between 250  Mins and 350 Mins\n",
        "\n",
        "stats.norm.cdf(350, mew, sigma) - stats.norm.cdf(250, mew, sigma)"
      ],
      "metadata": {
        "colab": {
          "base_uri": "https://localhost:8080/"
        },
        "id": "Dfja45n6Q5yM",
        "outputId": "e66e85ad-9d78-439b-d9b1-b63a9d5d0d52"
      },
      "execution_count": 13,
      "outputs": [
        {
          "output_type": "execute_result",
          "data": {
            "text/plain": [
              "0.3061980400393016"
            ]
          },
          "metadata": {},
          "execution_count": 13
        }
      ]
    },
    {
      "cell_type": "code",
      "source": [],
      "metadata": {
        "id": "9zqms281RRrr"
      },
      "execution_count": null,
      "outputs": []
    }
  ]
}