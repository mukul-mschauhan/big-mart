{
  "cells": [
    {
      "cell_type": "markdown",
      "id": "7803be6e",
      "metadata": {
        "id": "7803be6e"
      },
      "source": [
        "<table align=\"left\" width=100%>\n",
        "    <tr>\n",
        "        <td width=\"20%\">\n",
        "            <img src=\"GL-2.png\">\n",
        "        </td>\n",
        "        <td>\n",
        "            <div align=\"center\">\n",
        "                <font color=\"#21618C\" size=8px>\n",
        "                  <b> Faculty Notebook <br> (Day 3) </b>\n",
        "                </font>\n",
        "            </div>\n",
        "        </td>\n",
        "    </tr>\n",
        "</table>"
      ]
    },
    {
      "cell_type": "markdown",
      "id": "3ce724c8",
      "metadata": {
        "id": "3ce724c8"
      },
      "source": [
        "## Table of Content\n",
        "\n",
        "1. **[Import Libraries](#lib)**\n",
        "2. **[Parameter Estimation](#est)**\n",
        "    - 2.1 - **[Point Estimation](#pt)**\n",
        "        - 2.1.1 - **[Sampling Error](#err)**\n",
        "    - 2.2 - **[Interval Estimation for Mean](#int)**\n",
        "        - 2.2.1 - **[Large Sample Size](#large)**   \n",
        "        - 2.2.2 - **[Small Sample Size](#small)**\n",
        "    - 2.3 - **[Interval Estimation for Proportion](#prop)**\n",
        "3. **[Test of Hypothesis](#defn)**\n",
        "    - 3.1 - **[Types of Hypothesis](#types)**\n",
        "4. **[Types of Test](#test_type)**\n",
        "    - 4.1 - **[Two Tailed Test](#2tailed)**\n",
        "    - 4.2 - **[One Tailed Test](#1tailed)**\n",
        "5. **[Hypothesis Tests with Z Statistic](#eg)**\n",
        "6. **[Error](#error)**"
      ]
    },
    {
      "cell_type": "markdown",
      "id": "42113758",
      "metadata": {
        "id": "42113758"
      },
      "source": [
        "<a id=\"lib\"></a>\n",
        "# 1. Import Libraries"
      ]
    },
    {
      "cell_type": "markdown",
      "id": "a13a5724",
      "metadata": {
        "id": "a13a5724"
      },
      "source": [
        "**Let us import the required libraries.**"
      ]
    },
    {
      "cell_type": "code",
      "execution_count": 5,
      "id": "47c3cfd9",
      "metadata": {
        "id": "47c3cfd9"
      },
      "outputs": [],
      "source": [
        "# import 'pandas'\n",
        "import pandas as pd\n",
        "\n",
        "# import 'numpy'\n",
        "import numpy as np\n",
        "\n",
        "# import subpackage of matplotlib\n",
        "import matplotlib.pyplot as plt\n",
        "\n",
        "# import 'seaborn'\n",
        "import seaborn as sns\n",
        "\n",
        "# to suppress warnings\n",
        "from warnings import filterwarnings\n",
        "filterwarnings('ignore')\n",
        "\n",
        "# import 'random' to generate random sample\n",
        "import random\n",
        "\n",
        "\n",
        "# import 'stats' package from scipy library\n",
        "from scipy import stats"
      ]
    },
    {
      "cell_type": "code",
      "execution_count": null,
      "id": "9e4f6a4b",
      "metadata": {
        "id": "9e4f6a4b"
      },
      "outputs": [],
      "source": [
        "# set the plot size using 'rcParams'\n",
        "# once the plot size is set using 'rcParams', it sets the size of all the forthcoming plots in the file\n",
        "# pass width and height in inches to 'figure.figsize'\n",
        "plt.rcParams['figure.figsize'] = [15,8]"
      ]
    },
    {
      "cell_type": "markdown",
      "id": "80017839",
      "metadata": {
        "id": "80017839"
      },
      "source": [
        "<a id=\"est\"></a>\n",
        "# 2. Parameter Estimation"
      ]
    },
    {
      "cell_type": "markdown",
      "id": "712e48a6",
      "metadata": {
        "id": "712e48a6"
      },
      "source": [
        "The value associated with the characteristic of the population is known as a `parameter` and the characteristic of the sample is described by a `statistic`.\n",
        "Usually, the population parameters are not known in most of the real-life problems. Thus, we consider a subset of the population (sample) to estimate the population parameter using a sample statistic.\n",
        "\n",
        "`Point estimation` and `Interval estimation` are two of the methods to estimate the population parameter."
      ]
    },
    {
      "cell_type": "markdown",
      "id": "57382f3d",
      "metadata": {
        "id": "57382f3d"
      },
      "source": [
        "<a id=\"pt\"></a>\n",
        "## 2.1 Point Estimation"
      ]
    },
    {
      "cell_type": "markdown",
      "id": "f3ff7201",
      "metadata": {
        "id": "f3ff7201"
      },
      "source": [
        "This method considers a single value (sample statistic) as estimate of the population parameter.\n",
        "\n",
        "Let $X_{1}, X_{2}, X_{3},..., X_{n}$ be the random sample drawn from a population with mean $\\mu$ and standard deviation $\\sigma$. <br>\n",
        "The point estimation method estimates the population mean, $\\mu = \\overline{X}$, where $\\overline{X}$ is the sample mean and population standard deviation, $\\sigma = s$, where $s$ is the standard deviation of the sample (`Standard Error`)."
      ]
    },
    {
      "cell_type": "markdown",
      "id": "0b69a8ab",
      "metadata": {
        "id": "0b69a8ab"
      },
      "source": [
        "### Example:\n",
        "\n",
        "#### 1. Consider the data of grade points for 35 students in a data science course. Select grades of 20 students randomly from the data and find the point estimate for the population mean.\n",
        "\n",
        "     Grades: [59.1, 65.0, 75.8, 79.2, 95.0, 99.8, 89.1, 65.2, 41.9, 55.2, 94.8, 84.1, 83.2, 74.0, 75.5, 76.2, 79.1, 80.1,\n",
        "              92.1, 74.2, 59.2, 64.0, 75, 78.2, 95.6, 97.8, 89.5, 64.2, 41.8, 57.2, 85, 91.4, 81.8, 74.6, 90]"
      ]
    },
    {
      "cell_type": "code",
      "execution_count": 10,
      "id": "85d38be2",
      "metadata": {
        "id": "85d38be2",
        "colab": {
          "base_uri": "https://localhost:8080/"
        },
        "outputId": "72957eac-87fc-448c-a3a3-e5398f9c363f"
      },
      "outputs": [
        {
          "output_type": "stream",
          "name": "stdout",
          "text": [
            "Pop mean:  76.68285714285715\n"
          ]
        },
        {
          "output_type": "execute_result",
          "data": {
            "text/plain": [
              "[94.8,\n",
              " 79.1,\n",
              " 75.5,\n",
              " 81.8,\n",
              " 41.9,\n",
              " 76.2,\n",
              " 41.9,\n",
              " 80.1,\n",
              " 80.1,\n",
              " 55.2,\n",
              " 95.0,\n",
              " 74.0,\n",
              " 95.0,\n",
              " 85,\n",
              " 99.8,\n",
              " 74.2,\n",
              " 90,\n",
              " 78.2,\n",
              " 41.8,\n",
              " 80.1,\n",
              " 99.8,\n",
              " 75.8,\n",
              " 76.2,\n",
              " 92.1,\n",
              " 75.8,\n",
              " 55.2,\n",
              " 74.0,\n",
              " 59.2,\n",
              " 41.9,\n",
              " 89.5,\n",
              " 95.0,\n",
              " 74.0,\n",
              " 92.1,\n",
              " 78.2,\n",
              " 75,\n",
              " 65.2]"
            ]
          },
          "metadata": {},
          "execution_count": 10
        }
      ],
      "source": [
        "# given population\n",
        "# draw more samples from the data ~ sampling with replacement\n",
        "# In Random Forest ~ Bootstrap Aggregation\n",
        "\n",
        "# given population\n",
        "grades = [59.1, 65.0, 75.8, 79.2, 95.0, 99.8, 89.1, 65.2, 41.9, 55.2, 94.8, 84.1, 83.2, 74.0, 75.5, 76.2, 79.1, 80.1,\n",
        "          92.1, 74.2, 59.2, 64.0, 75, 78.2, 95.6, 97.8, 89.5, 64.2, 41.8, 57.2, 85, 91.4, 81.8, 74.6, 90]\n",
        "\n",
        "import random\n",
        "print(\"Pop mean: \", np.mean(grades))\n",
        "np.mean(random.sample(grades, 20))\n",
        "\n",
        "random.choices(grades, k=36) # Sampling with replacement"
      ]
    },
    {
      "cell_type": "markdown",
      "id": "348088a2",
      "metadata": {
        "id": "348088a2"
      },
      "source": [
        "#### 2. A financial firm has created 50 portfolios. From them, a sample of 13 portfolios was selected, out of which 8 were found to be underperforming. Can you estimate the number of underperforming portfolios in the population?"
      ]
    },
    {
      "cell_type": "code",
      "execution_count": 11,
      "id": "b7ce6d79",
      "metadata": {
        "id": "b7ce6d79",
        "colab": {
          "base_uri": "https://localhost:8080/"
        },
        "outputId": "805f9aad-54bb-4876-f9cf-fb8c5f397071"
      },
      "outputs": [
        {
          "output_type": "execute_result",
          "data": {
            "text/plain": [
              "30.76923076923077"
            ]
          },
          "metadata": {},
          "execution_count": 11
        }
      ],
      "source": [
        "(8/13)*50"
      ]
    },
    {
      "cell_type": "markdown",
      "id": "ab9fc2ed",
      "metadata": {
        "id": "ab9fc2ed"
      },
      "source": [
        "<a id=\"err\"></a>\n",
        "### 2.1.1 Sampling Error"
      ]
    },
    {
      "cell_type": "markdown",
      "id": "288d61b1",
      "metadata": {
        "id": "288d61b1"
      },
      "source": [
        "Sampling error is considered as the absolute difference between the sample statistic used to estimate the parameter and the corresponding population parameter. Since the entire population is not considered as the sample, the values of mean, median, quantiles, and so on calculated on sample differ from the actual population values.\n",
        "\n",
        "One can reduce the sampling error either by increasing the sample size or determining the optimal sample size using various methods."
      ]
    },
    {
      "cell_type": "markdown",
      "id": "5c29b716",
      "metadata": {
        "id": "5c29b716"
      },
      "source": [
        "### Example:\n",
        "\n",
        "#### 1. Consider the data for the number of ice-creams sold per day. An ice-cream vendor collected this data for 90 days and then a sample is drawn (without replacement) containing ice-creams sold for 25 days.\n",
        "\n",
        "data = [21, 93, 62, 76, 73, 20, 56, 95, 41, 36, 38, 13, 80, 88, 34, 18, 40, 11,\n",
        "        25, 29, 61, 23, 82, 10, 92, 69, 60, 87, 14, 91, 94, 49, 57, 83, 96, 55,\n",
        "        79, 52, 59, 39, 58, 17, 19, 98, 15, 54, 48, 46, 72, 45, 65, 28, 37, 30,\n",
        "        68, 75, 16, 33, 31, 99, 22, 51, 27, 67, 85, 47, 44, 77, 64, 97, 84, 42,\n",
        "        90, 70, 74, 89, 32, 26, 24, 12, 81, 53, 50, 35, 71, 63, 43, 86, 78, 66]\n",
        "        \n",
        "sample = [10, 22, 47, 66, 11, 57, 77, 98, 31, 63, 74, 84, 50, 96, 88, 92, 70, 54, 65, 44, 16, 72, 20, 90, 43]\n",
        "\n",
        "Comupte the sampling error for mean."
      ]
    },
    {
      "cell_type": "code",
      "execution_count": 12,
      "id": "89d2084a",
      "metadata": {
        "id": "89d2084a",
        "colab": {
          "base_uri": "https://localhost:8080/"
        },
        "outputId": "bf013825-5d4c-4060-ec89-a990202dd753"
      },
      "outputs": [
        {
          "output_type": "stream",
          "name": "stdout",
          "text": [
            "Sampling Error:  3.1000000000000014\n"
          ]
        }
      ],
      "source": [
        "# The absolute value of the difference between the sample mean denoted as x̄,\n",
        "# and the population mean is denoted by μ, written as |x̄ − μ|, is known as the Sampling Error.\n",
        "\n",
        "# given population\n",
        "data = [21, 93, 62, 76, 73, 20, 56, 95, 41, 36, 38, 13, 80, 88, 34, 18, 40, 11, 25, 29, 61, 23, 82, 10, 92, 69, 60, 87, 14, 91,\n",
        "        94, 49, 57, 83, 96, 55, 79, 52, 59, 39, 58, 17, 19, 98, 15, 54, 48, 46, 72, 45, 65, 28, 37, 30, 68, 75, 16, 33, 31, 99,\n",
        "        22, 51, 27, 67, 85, 47, 44, 77, 64, 97, 84, 42, 90, 70, 74, 89, 32, 26, 24, 12, 81, 53, 50, 35, 71, 63, 43, 86, 78, 66]\n",
        "\n",
        "# given sample\n",
        "sample = [10, 22, 47, 66, 11, 57, 77, 98, 31, 63, 74, 84, 50, 96, 88, 92, 70, 54, 65, 44, 16, 72, 20, 90, 43]\n",
        "\n",
        "mean_data = np.mean(data)\n",
        "mean_sample = np.mean(sample)\n",
        "\n",
        "print(\"Sampling Error: \", abs(mean_sample - mean_data))\n"
      ]
    },
    {
      "cell_type": "markdown",
      "id": "6042a6e1",
      "metadata": {
        "id": "6042a6e1"
      },
      "source": [
        "<a id=\"int\"></a>\n",
        "## 2.2 Interval Estimation for Mean"
      ]
    },
    {
      "cell_type": "markdown",
      "id": "d031528f",
      "metadata": {
        "id": "d031528f"
      },
      "source": [
        "This method considers the range of values in which the population parameter is likely to lie. The confidence interval is an interval that describes the range of values in which the parameter lies with a specific probability. It is given by the formula,<br> <p style='text-indent:20em'> `conf_interval = sample statistic ± margin of error`</p>\n",
        "\n",
        "The uncertainty of an estimate is described by the `confidence level` which is used to calculate the margin of error."
      ]
    },
    {
      "cell_type": "markdown",
      "id": "06af1d83",
      "metadata": {
        "id": "06af1d83"
      },
      "source": [
        "<a id=\"large\"></a>\n",
        "### 2.2.1 Large Sample Size"
      ]
    },
    {
      "cell_type": "markdown",
      "id": "2318980f",
      "metadata": {
        "id": "2318980f"
      },
      "source": [
        "Consider a population with mean $\\mu$ and standard deviation $\\sigma$. Let us take a sample of `n` observations from the population such that, $n \\geq 30$. The central limit theorem states that the sampling distribution of mean follows a normal distribution with mean $\\mu$ and standard deviation $\\frac{\\sigma}{\\sqrt(n)}$."
      ]
    },
    {
      "cell_type": "markdown",
      "id": "4bb13921",
      "metadata": {
        "id": "4bb13921"
      },
      "source": [
        "The confidence interval for the population mean with $100(1-\\alpha)$% confidence level is given as: $\\overline{X} \\pm Z_{\\frac{\\alpha}{2}}\\frac{\\sigma}{\\sqrt{n}}$\n",
        "\n",
        "Where, <br>\n",
        "$\\overline{X}$: Sample mean<br>\n",
        "$\\alpha$: Level of significance<br>\n",
        "$\\sigma$: Population standard deviation<br>\n",
        "$n$: Sample size\n",
        "\n",
        "The quantity $\\frac{\\sigma}{\\sqrt{n}}$ is the standard error of the mean. And the margin of error is given by $Z_{\\frac{\\alpha}{2}}\\frac{\\sigma}{\\sqrt{n}}$.\n",
        "\n",
        "If we know the expected margin of error (ME), then we can calculate the required sample size (n) using the formula: $n = (Z_{\\frac{\\alpha}{2}})^{2}\\frac{\\sigma^{2}}{ME^{2}}$.\n",
        "\n",
        "The above equation is valid for any population provided the sample size is sufficiently large (usually $n \\geq 30$). Relace $\\sigma$ by the standard deviation of the sample ($s$) if the population standard deviation is not known.\n",
        "\n",
        "The value of $Z_{\\frac{\\alpha}{2}}$ for different $\\alpha$ values can be obtained using the `stats.norm.isf()` from the scipy library."
      ]
    },
    {
      "cell_type": "code",
      "execution_count": 18,
      "id": "bb418611",
      "metadata": {
        "id": "bb418611",
        "scrolled": true,
        "colab": {
          "base_uri": "https://localhost:8080/"
        },
        "outputId": "a16b68f2-ebe7-4300-cb46-0ecfc3d54405"
      },
      "outputs": [
        {
          "output_type": "execute_result",
          "data": {
            "text/plain": [
              "2.5758293035489004"
            ]
          },
          "metadata": {},
          "execution_count": 18
        }
      ],
      "source": [
        "# Calculating Z Critical\n",
        "\n",
        "import scipy.stats as stats\n",
        "\n",
        "conf = 0.99\n",
        "alpha = 1 - conf\n",
        "\n",
        "#stats.norm.ppf(conf+alpha/2)\n",
        "stats.norm.isf(alpha/2) # isf: isotonic survival function\n",
        "# ppf: percent point function\n",
        "# sf: survival function\n"
      ]
    },
    {
      "cell_type": "markdown",
      "source": [
        "### Book Question from Prem S Mann"
      ],
      "metadata": {
        "id": "8hutAHCHVJK7"
      },
      "id": "8hutAHCHVJK7"
    },
    {
      "cell_type": "code",
      "source": [
        "xbar = 145\n",
        "sigma = 35\n",
        "n = 25\n",
        "\n",
        "se = sigma/np.sqrt(n)\n",
        "stats.norm.interval(0.90, loc = xbar, scale = se)"
      ],
      "metadata": {
        "id": "bhyYG8DBD3G_",
        "colab": {
          "base_uri": "https://localhost:8080/"
        },
        "outputId": "3d89a154-9a15-44d5-bdc8-e6ba95f4b3c0"
      },
      "id": "bhyYG8DBD3G_",
      "execution_count": 19,
      "outputs": [
        {
          "output_type": "execute_result",
          "data": {
            "text/plain": [
              "(133.4860246113397, 156.5139753886603)"
            ]
          },
          "metadata": {},
          "execution_count": 19
        }
      ]
    },
    {
      "cell_type": "markdown",
      "id": "90bb9425",
      "metadata": {
        "id": "90bb9425"
      },
      "source": [
        "To calculate the confidence interval with 95% confidence, use the Z-value corresponding to `alpha = 0.05`."
      ]
    },
    {
      "cell_type": "markdown",
      "id": "8d9b372f",
      "metadata": {
        "id": "8d9b372f"
      },
      "source": [
        "### Example:\n",
        "\n",
        "#### 1. A random sample of weight (in kg.) for 35 diabetic patients is drawn from the population with a standard deviation of 8 kg. Find the 90% confidence interval for the population mean.\n",
        "\n",
        "    Weight: [59.1, 65.0, 75.8, 79.2, 95.0, 99.8, 89.1, 65.3, 41.9, 55.2, 94.8, 84.1, 83.2, 74.0, 75.5, 76.2, 79.1, 80.1,\n",
        "             92.1, 74.2, 59.2, 64.0, 75, 78.2, 95.6, 97.8, 89.5, 64.2, 41.8, 57.2, 85, 91.4, 81.8, 74.6, 90]"
      ]
    },
    {
      "cell_type": "code",
      "source": [
        "weight = [59.1, 65.0, 75.8, 79.2, 95.0, 99.8, 89.1, 65.3, 41.9,\n",
        "         55.2, 94.8, 84.1, 83.2, 74.0, 75.5, 76.2, 79.1, 80.1,\n",
        "         92.1, 74.2, 59.2, 64.0, 75, 78.2,\n",
        "         95.6, 97.8, 89.5, 64.2, 41.8, 57.2, 85, 91.4, 81.8, 74.6, 90]"
      ],
      "metadata": {
        "id": "O16SlDPBtQg5"
      },
      "id": "O16SlDPBtQg5",
      "execution_count": 25,
      "outputs": []
    },
    {
      "cell_type": "code",
      "source": [
        "# Assume the data to be population\n",
        "sigma = 8\n",
        "#np.std(weight, ddof = 0) # ddof = 1 represents n-1\n",
        "n = len(weight)\n",
        "xbar = np.mean(weight)\n",
        "print(xbar), print(n)\n",
        "cf = 0.90\n",
        "\n",
        "stats.norm.interval(cf, loc = xbar, scale = sigma/np.sqrt(n))"
      ],
      "metadata": {
        "id": "Z-zO34Jdhzoy",
        "colab": {
          "base_uri": "https://localhost:8080/"
        },
        "outputId": "befff199-fdfc-4593-f4b7-5595783e2ad1"
      },
      "id": "Z-zO34Jdhzoy",
      "execution_count": 28,
      "outputs": [
        {
          "output_type": "stream",
          "name": "stdout",
          "text": [
            "76.68571428571428\n",
            "35\n"
          ]
        },
        {
          "output_type": "execute_result",
          "data": {
            "text/plain": [
              "(74.46146621975642, 78.90996235167215)"
            ]
          },
          "metadata": {},
          "execution_count": 28
        }
      ]
    },
    {
      "cell_type": "markdown",
      "id": "db931e70",
      "metadata": {
        "id": "db931e70"
      },
      "source": [
        "#### 2. There are 150 apples on a tree. You randomly choose 40 apples and found that the average weight of apples is 182 grams with a standard deviation of 30 grams. Find the 95% confidence interval for the population mean."
      ]
    },
    {
      "cell_type": "code",
      "execution_count": 32,
      "id": "29b12a96",
      "metadata": {
        "id": "29b12a96",
        "colab": {
          "base_uri": "https://localhost:8080/"
        },
        "outputId": "6410b5c1-b8e7-4647-9d18-680000732349"
      },
      "outputs": [
        {
          "output_type": "execute_result",
          "data": {
            "text/plain": [
              "(172.70307451543158, 191.29692548456842)"
            ]
          },
          "metadata": {},
          "execution_count": 32
        }
      ],
      "source": [
        "n = 40\n",
        "xbar = 182\n",
        "sigma = 30\n",
        "cf = 0.95\n",
        "\n",
        "stats.norm.interval(cf, loc = xbar, scale = sigma/np.sqrt(n))"
      ]
    },
    {
      "cell_type": "markdown",
      "id": "d2f91c98",
      "metadata": {
        "id": "d2f91c98"
      },
      "source": [
        "#### 3. A movie production house needs to estimate the average monthly wage of the technical crew members. The previous data shows that the standard deviation of the wages is 190 dollars. The production team thinks that the estimation of the average wage should not exceed 54 dollars. The team has decided to take a small subset of wages for the estimation. Find a suitable number of wages to be considered to get the estimate with 90% confidence."
      ]
    },
    {
      "cell_type": "code",
      "execution_count": null,
      "id": "a572d44e",
      "metadata": {
        "id": "a572d44e"
      },
      "outputs": [],
      "source": []
    },
    {
      "cell_type": "markdown",
      "id": "fe48b0f7",
      "metadata": {
        "id": "fe48b0f7"
      },
      "source": [
        "#### 4. From a sample of 250 observations, it is found that the average income of a 27 year old Londoner is £45,000 with a sample standard deviation of £4000. Obtain the 95% confidence interval to estimate the average income."
      ]
    },
    {
      "cell_type": "code",
      "source": [
        "stats.norm.interval(0.95, loc = 45000, scale = 4000/np.sqrt(250))"
      ],
      "metadata": {
        "id": "zb-g-8bzH20m",
        "colab": {
          "base_uri": "https://localhost:8080/"
        },
        "outputId": "be2fb8ec-10fc-4ab1-9851-9e1bef5d41f6"
      },
      "id": "zb-g-8bzH20m",
      "execution_count": 37,
      "outputs": [
        {
          "output_type": "execute_result",
          "data": {
            "text/plain": [
              "(44504.16397415635, 45495.83602584365)"
            ]
          },
          "metadata": {},
          "execution_count": 37
        }
      ]
    },
    {
      "cell_type": "markdown",
      "source": [
        "### Finding if the Population Mean truly exists in Conf Interval Range\n",
        "\n",
        "Note: We will perform it using 0.95"
      ],
      "metadata": {
        "id": "ApoQen4Fb3ra"
      },
      "id": "ApoQen4Fb3ra"
    },
    {
      "cell_type": "code",
      "source": [
        "# Considering the entire data as Population Data\n",
        "tips = sns.load_dataset(\"tips\")\n",
        "sigma = np.std(tips.total_bill, ddof = 0)\n",
        "\n",
        "# Draw a Sample of 30 Rows\n",
        "sample = tips.sample(30, random_state = 20)\n",
        "\n",
        "xbar = np.mean(sample.total_bill)\n",
        "n = sample.shape[0]\n",
        "\n",
        "print(\"Population Mean: \", tips.total_bill.mean())\n",
        "stats.norm.interval(0.95, loc = xbar, scale = sigma/np.sqrt(n))"
      ],
      "metadata": {
        "colab": {
          "base_uri": "https://localhost:8080/"
        },
        "id": "HiTsK4sEcBW4",
        "outputId": "68fe8f7b-d79a-4b39-aa4b-e87e4e7bf46d"
      },
      "id": "HiTsK4sEcBW4",
      "execution_count": 42,
      "outputs": [
        {
          "output_type": "stream",
          "name": "stdout",
          "text": [
            "Population Mean:  19.78594262295082\n"
          ]
        },
        {
          "output_type": "execute_result",
          "data": {
            "text/plain": [
              "(17.071905962870094, 23.430094037129894)"
            ]
          },
          "metadata": {},
          "execution_count": 42
        }
      ]
    },
    {
      "cell_type": "markdown",
      "id": "75437147",
      "metadata": {
        "id": "75437147"
      },
      "source": [
        "<a id=\"small\"></a>\n",
        "### 2.2.2 Small Sample Size"
      ]
    },
    {
      "cell_type": "markdown",
      "id": "4af93af3",
      "metadata": {
        "id": "4af93af3"
      },
      "source": [
        "Let us take a sample of `n` observations from the population such that, $n < 30$. Here the standard deviation of the population is unknown. The confidence interval for the population mean with $100(1-\\alpha)$% confidence level is given as: $\\overline{X} \\pm t_{\\frac{\\alpha}{2}, n-1}\\frac{s}{\\sqrt{n}}$\n",
        "\n",
        "Where, <br>\n",
        "$\\overline{X}$: Sample mean<br>\n",
        "$\\alpha$: Level of significance<br>\n",
        "$s$: Sample standard deviation<br>\n",
        "$n-1$: degrees of freedom\n",
        "\n",
        "The ratio $\\frac{s}{\\sqrt{n}}$ is the estimate of the standard error of the mean. And $t_{\\frac{\\alpha}{2}, n-1}\\frac{s}{\\sqrt{n}}$ is the margin of error for the estimate.\n",
        "\n",
        "The value of $t_{\\frac{\\alpha}{2}, n-1}$ for different $\\alpha$ values can be obtained using the `stats.t.isf()` from the scipy library.  "
      ]
    },
    {
      "cell_type": "markdown",
      "id": "9390028c",
      "metadata": {
        "id": "9390028c"
      },
      "source": [
        "### Example:\n",
        "\n",
        "Dr. Moore wanted to estimate the mean cholesterol level for all adult men living in Hartford.\n",
        "\n",
        "He took a sample of 25 adult men from Hartford and found that the mean cholesterol level for this sample is 186 mg/dL with a standard deviation of 12 mg/dL.\n",
        "\n",
        "Assume that the cholesterol levels for all adult men in Hartford are (approximately) normally distributed.\n",
        "\n",
        "Construct a 95% confidence interval for the population mean ."
      ]
    },
    {
      "cell_type": "code",
      "execution_count": 43,
      "id": "ab17e15f",
      "metadata": {
        "id": "ab17e15f",
        "colab": {
          "base_uri": "https://localhost:8080/"
        },
        "outputId": "f6a18443-e9b0-48b3-8f04-d78c5a2dbf8b"
      },
      "outputs": [
        {
          "output_type": "execute_result",
          "data": {
            "text/plain": [
              "(181.04664345209275, 190.95335654790725)"
            ]
          },
          "metadata": {},
          "execution_count": 43
        }
      ],
      "source": [
        "n = 25\n",
        "xbar = 186\n",
        "samplesd = 12\n",
        "cf = 0.95\n",
        "\n",
        "# Since we have been given the sample SD, we use t-distt to calc conf\n",
        "stats.t.interval(cf, df = n-1, loc = xbar, scale = samplesd/np.sqrt(n))"
      ]
    },
    {
      "cell_type": "markdown",
      "id": "bbcfeed9",
      "metadata": {
        "id": "bbcfeed9"
      },
      "source": [
        "<a id=\"prop\"></a>\n",
        "## 2.3 Interval Estimation for Proportion - Additional Topic"
      ]
    },
    {
      "cell_type": "markdown",
      "id": "cafc43e6",
      "metadata": {
        "id": "cafc43e6"
      },
      "source": [
        "Consider a population in which each observation is either a success or a failure. The population proportion is denoted by `P` which the ratio of the number of successes to the size of the population.\n",
        "\n",
        "The confidence interval for the population proportion with $100(1-\\alpha)$% confidence level is given as: $p \\pm Z_{\\frac{\\alpha}{2}}\\sqrt{\\frac{p(1 - p)}{n}}$\n",
        "\n",
        "Where, <br>\n",
        "$p$: Sample proportion<br>\n",
        "$\\alpha$: Level of significance<br>\n",
        "$n$: Sample size\n",
        "\n",
        "The quantity $Z_{\\frac{\\alpha}{2}}\\sqrt{\\frac{p(1 - p)}{n}}$ is the margin of error."
      ]
    },
    {
      "cell_type": "markdown",
      "id": "58dc10e7",
      "metadata": {
        "id": "58dc10e7"
      },
      "source": [
        "### Example:\n",
        "\n",
        "#### 1. A financial firm has created 50 portfolios. From them, a sample of 13 portfolios was selected, out of which 8 were found to be underperforming. Construct a 99% confidence interval to estimate the population proportion."
      ]
    },
    {
      "cell_type": "code",
      "execution_count": null,
      "id": "1bedbe33",
      "metadata": {
        "id": "1bedbe33"
      },
      "outputs": [],
      "source": [
        "# Confidence Interval for Proportions\n"
      ]
    },
    {
      "cell_type": "markdown",
      "id": "aecf888f",
      "metadata": {
        "id": "aecf888f"
      },
      "source": [
        "<a id=\"defn\"></a>\n",
        "# 3. Test of Hypothesis"
      ]
    },
    {
      "cell_type": "markdown",
      "id": "f77e8621",
      "metadata": {
        "id": "f77e8621"
      },
      "source": [
        "Hypothesis testing is the process of evaluating the validity of claims made about the population using the sample data obtained from the population. A statistical test is a rule used to decide whether to reject or retain the claim.\n",
        "\n",
        "**Examples of hypothesis:**\n",
        "\n",
        "        1. One can get 'A' grade if the attendance in the class is more than 75%.\n",
        "        2. A probiotic drink can improve the immunity of a person."
      ]
    },
    {
      "cell_type": "markdown",
      "id": "9fd178d3",
      "metadata": {
        "id": "9fd178d3"
      },
      "source": [
        "<a id=\"types\"></a>\n",
        "## 3.1 Types of Hypothesis"
      ]
    },
    {
      "cell_type": "markdown",
      "id": "cb1c4dbf",
      "metadata": {
        "id": "cb1c4dbf"
      },
      "source": [
        "`Null Hypothesis`: The null hypothesis is the statistical hypothesis suggesting 'no difference' between the population parameter and a specific value\n",
        ". It is denoted as H<sub>0</sub>.\n",
        "\n",
        "`Alternative Hypothesis`: It is the hypothesis that is tested against the null hypothesis and states the existence of a difference between the parameter and a specific value. It is denoted by H<sub>a</sub> or H<sub>1</sub>.\n",
        "\n",
        "The claim is usually the alternative hypothesis H<sub>1</sub> also known as research hypothesis. To test the claim we need to gather evidence (data ) and find the likelihood of the data under the assumption H<sub>0</sub> being true.\n",
        "\n",
        "#### Example:\n",
        "\n",
        "A company that produces tennis balls claimed that the diameter of a tennis ball is at least 2.625 inches on average. On the other hand, a professional tennis coach claimed that the diameter of a ball is less than what the company has claimed. To test the claim of the coach, a statistical test can be performed considering the hypothesis:\n",
        "\n",
        "                    Null Hypothesis: Average diameter ≥ 2.625\n",
        "                    Alternative Hypothesis: Average diameter < 2.625"
      ]
    },
    {
      "cell_type": "markdown",
      "id": "307d9e3d",
      "metadata": {
        "id": "307d9e3d"
      },
      "source": [
        "<a id=\"test_type\"></a>\n",
        "# 4. Types of Test"
      ]
    },
    {
      "cell_type": "markdown",
      "id": "1a9e1354",
      "metadata": {
        "id": "1a9e1354"
      },
      "source": [
        "The hypothesis test is used to validate the claims about the population. The types of tests are based on the nature of the alternative hypothesis."
      ]
    },
    {
      "cell_type": "markdown",
      "id": "3ca352da",
      "metadata": {
        "id": "3ca352da"
      },
      "source": [
        "<a id=\"2tailed\"></a>\n",
        "## 4.1 Two Tailed Test"
      ]
    },
    {
      "cell_type": "markdown",
      "id": "2afe9966",
      "metadata": {
        "id": "2afe9966"
      },
      "source": [
        "Two tailed test considers the value of the population parameter is less than or greater than (i.e. not equal) a specific value. <br>\n",
        "If we test the population mean ($\\mu$) with a specific value ($\\mu_{0}$) the null hypothesis is: $H_{0}: \\mu = \\mu_{0}$.\n",
        "\n",
        "The alternative hypothesis for the two tailed test is given as: $H_{1}: \\mu \\neq \\mu_{0}$"
      ]
    },
    {
      "cell_type": "markdown",
      "id": "ff98776b",
      "metadata": {
        "id": "ff98776b"
      },
      "source": [
        "#### Example:\n",
        "\n",
        "A company that produces tennis balls claimed that the diameter of a tennis ball is 2.625 inches on average. To test the company's claim, a statistical test can be performed considering the hypothesis:\n",
        "\n",
        "                    Null Hypothesis: Average diameter = 2.625\n",
        "                    Alternative Hypothesis: Average diameter ≠ 2.625"
      ]
    },
    {
      "cell_type": "markdown",
      "id": "b096b67b",
      "metadata": {
        "id": "b096b67b"
      },
      "source": [
        "<a id=\"1tailed\"></a>\n",
        "## 4.2 One Tailed Test"
      ]
    },
    {
      "cell_type": "markdown",
      "id": "6b5acec8",
      "metadata": {
        "id": "6b5acec8"
      },
      "source": [
        "One tailed test considers the value of the population parameter is less than or greater than (but not both) a specific value. <br>\n",
        "If we test the population mean ($\\mu$) with a specific value ($\\mu_{0}$) the null hypothesis is: $H_{0}: \\mu \\leq \\mu_{0}$ and the alternative hypothesis is $H_{1}: \\mu > \\mu_{0}$, the one tailed test is also known as a `right-tailed test`.\n",
        "\n",
        "If we test the population mean ($\\mu$) with a specific value ($\\mu_{0}$) the null hypothesis is: $H_{0}: \\mu \\geq \\mu_{0}$ and the alternative hypothesis is $H_{1}: \\mu < \\mu_{0}$, the one tailed test is also known as a `left-tailed test`.\n"
      ]
    },
    {
      "cell_type": "markdown",
      "id": "740e4831",
      "metadata": {
        "id": "740e4831"
      },
      "source": [
        "### Example:\n",
        "\n",
        "**1.** The company's annual quality report of machines states that a lathe machine works efficiently at most for 8 months on average after the servicing. The production manager claims that after the special tuxan servicing, the machine works efficiently for more than 8 months. To test the claim of production manager consider the hypothesis:\n",
        "\n",
        "                    Null Hypothesis: Machine efficiency ≤ 8 months\n",
        "                    Alternative Hypothesis: Machine efficiency > 8 months\n",
        "\n",
        "This is the example of a **right-tailed test**."
      ]
    },
    {
      "cell_type": "markdown",
      "id": "b6ebd45e",
      "metadata": {
        "id": "b6ebd45e"
      },
      "source": [
        "**2.** A railway authority claims that all the trains on the Chicago-Seattle route run with a speed of at least 54 mph on average. A customer forum declares that there are various records from passengers claiming that the speed of the train is less than what railway has claimed. In this scenario, a statistical test can be performed to test the claim of customer forum considering the hypothesis:\n",
        "\n",
        "                    Null Hypothesis: Speed ≥ 56 mph\n",
        "                    Alternative Hypothesis: Speed < 56 mph\n",
        "\n",
        "This is the example of a **left-tailed test**."
      ]
    },
    {
      "cell_type": "markdown",
      "id": "b0fc7088",
      "metadata": {
        "id": "b0fc7088"
      },
      "source": [
        "<a id=\"eg\"></a>\n",
        "# 5. Hypothesis Tests with Z Statistic"
      ]
    },
    {
      "cell_type": "markdown",
      "id": "68802b53",
      "metadata": {
        "id": "68802b53"
      },
      "source": [
        "Let us perform one sample Z test for the population mean. We compare the population mean with a specific value. The sample is assumed to be taken from a population following a normal distribution.\n",
        "\n",
        "To check the normality of the data, a test for normality is used. The `Shapiro-Wilk Test` is one of the methods used to check the normality. The hypothesis of the test is given as:\n",
        "<p style='text-indent:25em'> <strong> H<sub>0</sub>:  The data is normally distributed </strong> </p>\n",
        "<p style='text-indent:25em'> <strong> H<sub>1</sub>:  The data is not normally distributed </strong> </p>\n",
        "\n",
        "The `shapiro()` from scipy library performs a Shapiro-Wilk normality test."
      ]
    },
    {
      "cell_type": "markdown",
      "id": "5940c4b1",
      "metadata": {
        "id": "5940c4b1"
      },
      "source": [
        "The null and alternative hypothesis of Z-test is given as:\n",
        "<p style='text-indent:25em'> <strong> $H_{0}: \\mu = \\mu_{0}$ or $\\mu \\geq \\mu_{0}$ or $\\mu \\leq \\mu_{0}$</strong></p>\n",
        "<p style='text-indent:25em'> <strong> $H_{1}: \\mu \\neq \\mu_{0}$ or $\\mu < \\mu_{0}$ or $\\mu > \\mu_{0}$</strong></p>"
      ]
    },
    {
      "cell_type": "markdown",
      "id": "507e0f44",
      "metadata": {
        "id": "507e0f44"
      },
      "source": [
        "Consider a normal population with standard deviation $\\sigma$. Let us take a sample of size n, such that (n > 30).\n",
        "The test statistic for one sample Z-test is given as:\n",
        "<p style='text-indent:25em'> <strong> $Z = \\frac{\\overline{X} -  \\mu}{\\frac{\\sigma}{\\sqrt(n)}}$</strong></p>\n",
        "\n",
        "Where, <br>\n",
        "$\\overline{X}$: Sample mean<br>\n",
        "$\\mu$: Specified mean<br>\n",
        "$\\sigma$: Population standard deviation<br>\n",
        "$n$: Sample size\n",
        "\n",
        "Under $H_{0}$ the test statistic follows a standard normal distribution.\n",
        "\n",
        "If $\\sigma$ is unknown, use the sample standard deviation (s) instead of $\\sigma$ to calculate the test statistic."
      ]
    },
    {
      "cell_type": "code",
      "source": [],
      "metadata": {
        "id": "CzHvl_2E4DEO"
      },
      "id": "CzHvl_2E4DEO",
      "execution_count": null,
      "outputs": []
    },
    {
      "cell_type": "markdown",
      "id": "75472414",
      "metadata": {
        "id": "75472414"
      },
      "source": [
        "### Example:\n",
        "\n",
        "#### 1. A car manufacturing company claims that the mileage of their new car is 25 kmph with a standard deviation of 2.5 kmph. A random sample of 45 cars was drawn and recorded their mileage as per the standard procedure. From the sample, the mean mileage was seen to be 24 kmph. Is this evidence to claim that the mean mileage is different from 25kmph? (assume the normality of the data) Use α = 0.01."
      ]
    },
    {
      "cell_type": "markdown",
      "id": "b7b83968",
      "metadata": {
        "id": "b7b83968"
      },
      "source": [
        "The null and alternative hypothesis is:\n",
        "\n",
        "H<sub>0</sub>: $\\mu = 25 $<br>\n",
        "H<sub>1</sub>: $\\mu ≠ 25 $\n",
        "\n",
        "Here ⍺ = 0.01, for a two-tailed test calculate the critical z-value."
      ]
    },
    {
      "cell_type": "code",
      "execution_count": null,
      "id": "2f99addb",
      "metadata": {
        "id": "2f99addb"
      },
      "outputs": [],
      "source": []
    },
    {
      "cell_type": "markdown",
      "id": "eb69cf69",
      "metadata": {
        "id": "eb69cf69"
      },
      "source": [
        "i.e. if z is less than -2.58 or greater than 2.58 then we reject the null hypothesis."
      ]
    },
    {
      "cell_type": "markdown",
      "id": "06f2c366",
      "metadata": {
        "id": "06f2c366"
      },
      "source": [
        "Here the z score is less than -2.58, p-value is less than 0.01, also the confidence interval do not contain the value in the null hypothesis (i.e. 25), thus we reject the null hypothesis and conclude that there is enough evidence to claim that the mean mileage is different from 25kmph."
      ]
    },
    {
      "cell_type": "markdown",
      "id": "191fc577",
      "metadata": {
        "id": "191fc577"
      },
      "source": [
        "#### 2. The average calories in a slice bread of the brand 'Alphas' are 82 with a standard deviation of 15. An experiment is conducted to test the claim of the dietitians that the calories in a slice of bread are not as per the manufacturer's specification. A sample of 40 slices of bread is taken and the mean calories recorded are 95. Test the claim of dietitians with ⍺ value (significance level) as 0.05. (assume the normality of the data)."
      ]
    },
    {
      "cell_type": "markdown",
      "id": "af8ff011",
      "metadata": {
        "id": "af8ff011"
      },
      "source": [
        "The null and alternative hypothesis is:\n",
        "\n",
        "H<sub>0</sub>: $\\mu = 82 $<br>\n",
        "H<sub>1</sub>: $\\mu ≠ 82 $\n",
        "\n",
        "Here ⍺ = 0.05, for a two-tailed test calculate the critical z-value."
      ]
    },
    {
      "cell_type": "code",
      "execution_count": null,
      "id": "8f1d5e12",
      "metadata": {
        "id": "8f1d5e12"
      },
      "outputs": [],
      "source": []
    },
    {
      "cell_type": "markdown",
      "id": "5a700524",
      "metadata": {
        "id": "5a700524"
      },
      "source": [
        "#### 3. An e-commerce company claims that the mean delivery time of food items on its website in NYC is 60 minutes with a standard deviation of 30 minutes. A random sample of 45 customers ordered from the website, and the average time for delivery was found to be 75 minutes. Is this enough evidence to claim that the average time to get items delivered is more than 60 minutes. (assume the normality of the data). Test the with α = 0.05."
      ]
    },
    {
      "cell_type": "markdown",
      "id": "92fd9326",
      "metadata": {
        "id": "92fd9326"
      },
      "source": [
        "The null and alternative hypothesis is:\n",
        "\n",
        "H<sub>0</sub>: $\\mu \\leq  60 $<br>\n",
        "H<sub>1</sub>: $\\mu > 60 $\n",
        "\n",
        "Here ⍺ = 0.05, for a one-tailed test calculate the critical z-value."
      ]
    },
    {
      "cell_type": "code",
      "execution_count": null,
      "id": "c9f99e9e",
      "metadata": {
        "id": "c9f99e9e"
      },
      "outputs": [],
      "source": []
    },
    {
      "cell_type": "markdown",
      "id": "e8be09e3",
      "metadata": {
        "id": "e8be09e3"
      },
      "source": [
        "i.e. if z is greater than 1.64 then we reject the null hypothesis."
      ]
    },
    {
      "cell_type": "markdown",
      "id": "c6541d06",
      "metadata": {
        "id": "c6541d06"
      },
      "source": [
        "Here the z score is greater than 1.64, the p-value is less than 0.05 thus we reject the null hypothesis and conclude that the average time to get items delivered is more than 60 minutes."
      ]
    },
    {
      "cell_type": "markdown",
      "id": "0af81726",
      "metadata": {
        "id": "0af81726"
      },
      "source": [
        "<a id=\"error\"></a>\n",
        "# 6. Errors in Hypothesis Testing"
      ]
    },
    {
      "cell_type": "markdown",
      "id": "ee3e1e18",
      "metadata": {
        "id": "ee3e1e18"
      },
      "source": [
        "Under the hytpothesis testing framework there can be two decisions; either we 'reject' the null hypotyhesis H<sub>0</sub> or 'not reject' the null hypothesis H<sub>0</sub>. Errors can still occur in a hypothesis testing scenario because the decision to reject or not reject the null hypothesis is made on the basis of data taken from a sample. Two types of errors are `Type I` and `Type II` error."
      ]
    },
    {
      "cell_type": "markdown",
      "id": "c5f4ee70",
      "metadata": {
        "id": "c5f4ee70"
      },
      "source": [
        "### Type I Error\n",
        "\n",
        "This kind of error occurs when we reject the null hypothesis even if it is true. It is equivalent to a `false positive` conclusion. The maximum probability of committing a type I error is given by the value of $\\alpha$, level of significance. So when $\\alpha$ = 0.05 there is a 5% chance of rejecting a true null hypothesis.\n",
        "\n",
        "### Type II Error\n",
        "\n",
        "This kind of error occurs when we fail to reject the null hypothesis even if it is wrong. It is equivalent to a `false negative` conclusion. The probability of type II error is given by the value of $\\beta$. The value of $\\beta$ cannot be easily calculated. But $\\alpha$ and $\\beta$ are thus related that decreasing one increases the other."
      ]
    }
  ],
  "metadata": {
    "colab": {
      "collapsed_sections": [
        "cb1c4dbf",
        "ff98776b"
      ],
      "provenance": []
    },
    "kernelspec": {
      "display_name": "Python 3 (ipykernel)",
      "language": "python",
      "name": "python3"
    },
    "language_info": {
      "codemirror_mode": {
        "name": "ipython",
        "version": 3
      },
      "file_extension": ".py",
      "mimetype": "text/x-python",
      "name": "python",
      "nbconvert_exporter": "python",
      "pygments_lexer": "ipython3",
      "version": "3.9.13"
    }
  },
  "nbformat": 4,
  "nbformat_minor": 5
}